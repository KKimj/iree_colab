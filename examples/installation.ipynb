{
  "nbformat": 4,
  "nbformat_minor": 0,
  "metadata": {
    "colab": {
      "name": "installation.ipynb",
      "provenance": [],
      "authorship_tag": "ABX9TyOCX/RFIKtwWqyCtHd+tHjE",
      "include_colab_link": true
    },
    "kernelspec": {
      "name": "python3",
      "display_name": "Python 3"
    },
    "language_info": {
      "name": "python"
    }
  },
  "cells": [
    {
      "cell_type": "markdown",
      "metadata": {
        "id": "view-in-github",
        "colab_type": "text"
      },
      "source": [
        "<a href=\"https://colab.research.google.com/github/KKimj/iree_colab/blob/development/examples/installation.ipynb\" target=\"_parent\"><img src=\"https://colab.research.google.com/assets/colab-badge.svg\" alt=\"Open In Colab\"/></a>"
      ]
    },
    {
      "cell_type": "markdown",
      "metadata": {
        "id": "yKoJkbC55cVp"
      },
      "source": [
        "# Installation IREE python modules"
      ]
    },
    {
      "cell_type": "markdown",
      "metadata": {
        "id": "poKkhCSQ5X1J"
      },
      "source": [
        "This notebook shows off installation IREE python modules"
      ]
    },
    {
      "cell_type": "code",
      "metadata": {
        "colab": {
          "base_uri": "https://localhost:8080/"
        },
        "id": "5qHldV8J5N-d",
        "outputId": "9d2e0725-e775-4cd2-a96e-149a4e2c246f"
      },
      "source": [
        "!python -m pip install iree-compiler-snapshot iree-runtime-snapshot iree-tools-tf-snapshot iree-tools-tflite-snapshot iree-tools-xla-snapshot -f https://github.com/google/iree/releases "
      ],
      "execution_count": 1,
      "outputs": [
        {
          "output_type": "stream",
          "text": [
            "Looking in links: https://github.com/google/iree/releases\n",
            "Collecting iree-compiler-snapshot\n",
            "\u001b[?25l  Downloading https://github.com/google/iree/releases/download/snapshot-20210705.381/iree_compiler_snapshot-20210705.381-py3-none-manylinux2014_x86_64.whl (34.1MB)\n",
            "\u001b[K     |████████████████████████████████| 34.1MB 83kB/s \n",
            "\u001b[?25hCollecting iree-runtime-snapshot\n",
            "\u001b[?25l  Downloading https://github.com/google/iree/releases/download/snapshot-20210705.381/iree_runtime_snapshot-20210705.381-cp37-cp37m-manylinux2014_x86_64.whl (422kB)\n",
            "\u001b[K     |████████████████████████████████| 430kB 38.7MB/s \n",
            "\u001b[?25hCollecting iree-tools-tf-snapshot\n",
            "\u001b[?25l  Downloading https://github.com/google/iree/releases/download/snapshot-20210705.381/iree_tools_tf_snapshot-20210705.381-py3-none-manylinux2014_x86_64.whl (54.4MB)\n",
            "\u001b[K     |████████████████████████████████| 54.4MB 110kB/s \n",
            "\u001b[?25hCollecting iree-tools-tflite-snapshot\n",
            "\u001b[?25l  Downloading https://github.com/google/iree/releases/download/snapshot-20210705.381/iree_tools_tflite_snapshot-20210705.381-py3-none-manylinux2014_x86_64.whl (5.1MB)\n",
            "\u001b[K     |████████████████████████████████| 5.1MB 11.6MB/s \n",
            "\u001b[?25hCollecting iree-tools-xla-snapshot\n",
            "\u001b[?25l  Downloading https://github.com/google/iree/releases/download/snapshot-20210705.381/iree_tools_xla_snapshot-20210705.381-py3-none-manylinux2014_x86_64.whl (5.8MB)\n",
            "\u001b[K     |████████████████████████████████| 5.8MB 39.8MB/s \n",
            "\u001b[?25hInstalling collected packages: iree-compiler-snapshot, iree-runtime-snapshot, iree-tools-tf-snapshot, iree-tools-tflite-snapshot, iree-tools-xla-snapshot\n",
            "Successfully installed iree-compiler-snapshot-20210705.381 iree-runtime-snapshot-20210705.381 iree-tools-tf-snapshot-20210705.381 iree-tools-tflite-snapshot-20210705.381 iree-tools-xla-snapshot-20210705.381\n"
          ],
          "name": "stdout"
        }
      ]
    }
  ]
}