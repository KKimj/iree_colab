{
  "nbformat": 4,
  "nbformat_minor": 0,
  "metadata": {
    "colab": {
      "name": "_0installation.ipynb",
      "provenance": [],
      "collapsed_sections": [
        "FH3IRpYTta2v"
      ]
    },
    "kernelspec": {
      "name": "python3",
      "display_name": "Python 3"
    }
  },
  "cells": [
    {
      "cell_type": "markdown",
      "metadata": {
        "id": "ZEmrd07EvthK"
      },
      "source": [
        "# Installation IREE python modules"
      ]
    },
    {
      "cell_type": "markdown",
      "metadata": {
        "id": "uMVh8_lZDRa7"
      },
      "source": [
        "This notebook shows off installation IREE python modules"
      ]
    },
    {
      "cell_type": "code",
      "metadata": {
        "id": "Go2Nw7BgIHYU",
        "colab": {
          "base_uri": "https://localhost:8080/"
        },
        "outputId": "aca210b8-628a-4182-a5e1-4b95e057fcec"
      },
      "source": [
        "!python -m pip install iree-compiler-snapshot iree-runtime-snapshot iree-tools-tf-snapshot iree-tools-tflite-snapshot iree-tools-xla-snapshot -f https://github.com/google/iree/releases "
      ],
      "execution_count": 4,
      "outputs": [
        {
          "output_type": "stream",
          "text": [
            "Looking in links: https://github.com/google/iree/releases\n",
            "Collecting iree-compiler-snapshot\n",
            "\u001b[?25l  Downloading https://github.com/google/iree/releases/download/snapshot-20210705.381/iree_compiler_snapshot-20210705.381-py3-none-manylinux2014_x86_64.whl (34.1MB)\n",
            "\u001b[K     |████████████████████████████████| 34.1MB 93kB/s \n",
            "\u001b[?25hCollecting iree-runtime-snapshot\n",
            "\u001b[?25l  Downloading https://github.com/google/iree/releases/download/snapshot-20210705.381/iree_runtime_snapshot-20210705.381-cp37-cp37m-manylinux2014_x86_64.whl (422kB)\n",
            "\u001b[K     |████████████████████████████████| 430kB 49.9MB/s \n",
            "\u001b[?25hCollecting iree-tools-tf-snapshot\n",
            "\u001b[?25l  Downloading https://github.com/google/iree/releases/download/snapshot-20210705.381/iree_tools_tf_snapshot-20210705.381-py3-none-manylinux2014_x86_64.whl (54.4MB)\n",
            "\u001b[K     |████████████████████████████████| 54.4MB 48kB/s \n",
            "\u001b[?25hCollecting iree-tools-tflite-snapshot\n",
            "\u001b[?25l  Downloading https://github.com/google/iree/releases/download/snapshot-20210705.381/iree_tools_tflite_snapshot-20210705.381-py3-none-manylinux2014_x86_64.whl (5.1MB)\n",
            "\u001b[K     |████████████████████████████████| 5.1MB 35.0MB/s \n",
            "\u001b[?25hCollecting iree-tools-xla-snapshot\n",
            "\u001b[?25l  Downloading https://github.com/google/iree/releases/download/snapshot-20210705.381/iree_tools_xla_snapshot-20210705.381-py3-none-manylinux2014_x86_64.whl (5.8MB)\n",
            "\u001b[K     |████████████████████████████████| 5.8MB 41.4MB/s \n",
            "\u001b[?25hInstalling collected packages: iree-compiler-snapshot, iree-runtime-snapshot, iree-tools-tf-snapshot, iree-tools-tflite-snapshot, iree-tools-xla-snapshot\n",
            "Successfully installed iree-compiler-snapshot-20210705.381 iree-runtime-snapshot-20210705.381 iree-tools-tf-snapshot-20210705.381 iree-tools-tflite-snapshot-20210705.381 iree-tools-xla-snapshot-20210705.381\n"
          ],
          "name": "stdout"
        }
      ]
    }
  ]
}