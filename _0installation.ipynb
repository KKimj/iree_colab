{
  "nbformat": 4,
  "nbformat_minor": 0,
  "metadata": {
    "colab": {
      "name": "low_level_invoke_function.ipynb",
      "provenance": [],
      "collapsed_sections": [
        "FH3IRpYTta2v"
      ]
    },
    "kernelspec": {
      "name": "python3",
      "display_name": "Python 3"
    }
  },
  "cells": [
    {
      "cell_type": "markdown",
      "metadata": {
        "id": "ZEmrd07EvthK"
      },
      "source": [
        "# Installation IREE python modules"
      ]
    },
    {
      "cell_type": "markdown",
      "metadata": {
        "id": "uMVh8_lZDRa7"
      },
      "source": [
        "This notebook shows off installation IREE python modules"
      ]
    },
    {
      "cell_type": "code",
      "metadata": {
        "id": "Go2Nw7BgIHYU",
        "colab": {
          "base_uri": "https://localhost:8080/"
        },
        "outputId": "0e3a72ce-c065-4318-948e-1a1129fb0f2b"
      },
      "source": [
        "!python -m pip install iree-compiler-snapshot iree-runtime-snapshot iree-tools-tf-snapshot iree-tools-tflite-snapshot iree-tools-xla-snapshot -f https://github.com/google/iree/releases "
      ],
      "execution_count": 5,
      "outputs": [
        {
          "output_type": "stream",
          "text": [
            "Looking in links: https://github.com/google/iree/releases\n",
            "Requirement already satisfied: iree-compiler-snapshot in /usr/local/lib/python3.7/dist-packages (20210705.381)\n",
            "Requirement already satisfied: iree-runtime-snapshot in /usr/local/lib/python3.7/dist-packages (20210705.381)\n",
            "Requirement already satisfied: iree-tools-tf-snapshot in /usr/local/lib/python3.7/dist-packages (20210705.381)\n",
            "Requirement already satisfied: iree-tools-tflite-snapshot in /usr/local/lib/python3.7/dist-packages (20210705.381)\n",
            "Requirement already satisfied: iree-tools-xla-snapshot in /usr/local/lib/python3.7/dist-packages (20210705.381)\n"
          ],
          "name": "stdout"
        }
      ]
    }
  ]
}